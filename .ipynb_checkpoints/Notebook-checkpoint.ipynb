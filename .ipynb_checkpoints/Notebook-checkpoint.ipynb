{
 "cells": [
  {
   "cell_type": "code",
   "execution_count": 1,
   "metadata": {},
   "outputs": [],
   "source": [
    "import whisper\n"
   ]
  },
  {
   "cell_type": "code",
   "execution_count": 2,
   "metadata": {},
   "outputs": [],
   "source": [
    "infile = \"/Users/mark/repos/transpod/content/teppeinoriko/#499「今年もみなさん、お世話になりました！②」.mp3chunk_01.mp3\""
   ]
  },
  {
   "cell_type": "code",
   "execution_count": 3,
   "metadata": {},
   "outputs": [
    {
     "name": "stderr",
     "output_type": "stream",
     "text": [
      "100%|█████████████████████████████████████| 1.42G/1.42G [02:57<00:00, 8.62MiB/s]\n"
     ]
    }
   ],
   "source": [
    "model = whisper.load_model(\"medium\")"
   ]
  },
  {
   "cell_type": "code",
   "execution_count": 4,
   "metadata": {},
   "outputs": [],
   "source": [
    "options = {\n",
    "    \"task\": \"transcribe\",\n",
    "    \"language\": \"ja\",\n",
    "    \"fp16\": True,      # Enable half-precision for faster processing\n",
    "    \"beam_size\": 1,    # Reduce beam size for faster processing\n",
    "    \"best_of\": 1,      # Reduce candidates for faster processing\n",
    "    \"temperature\": 0,  # Keep deterministic output\n",
    "    \"initial_prompt\": \"。、？！\",  # Restored Japanese punctuation marks\n",
    "    \"condition_on_previous_text\": False,  # Disable for speed\n",
    "    \"word_timestamps\": False  # Disable if you don't need word-level timing\n",
    "}\n"
   ]
  },
  {
   "cell_type": "code",
   "execution_count": 5,
   "metadata": {},
   "outputs": [
    {
     "name": "stderr",
     "output_type": "stream",
     "text": [
      "/usr/local/Caskroom/miniconda/base/envs/transpod/lib/python3.12/site-packages/whisper/transcribe.py:126: UserWarning: FP16 is not supported on CPU; using FP32 instead\n",
      "  warnings.warn(\"FP16 is not supported on CPU; using FP32 instead\")\n"
     ]
    }
   ],
   "source": [
    "result = model.transcribe(infile, **options)"
   ]
  }
 ],
 "metadata": {
  "kernelspec": {
   "display_name": "transpod",
   "language": "python",
   "name": "python3"
  },
  "language_info": {
   "codemirror_mode": {
    "name": "ipython",
    "version": 3
   },
   "file_extension": ".py",
   "mimetype": "text/x-python",
   "name": "python",
   "nbconvert_exporter": "python",
   "pygments_lexer": "ipython3",
   "version": "3.12.2"
  }
 },
 "nbformat": 4,
 "nbformat_minor": 2
}
